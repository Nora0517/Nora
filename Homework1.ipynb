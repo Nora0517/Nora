{
 "cells": [
  {
   "cell_type": "markdown",
   "metadata": {},
   "source": [
    "# Fundamental of IT  \n",
    "---\n",
    ">### 41805250 袁逸辰"
   ]
  },
  {
   "cell_type": "markdown",
   "metadata": {},
   "source": [
    "## Computer is everywhere. In this course we are going to learn how does the computer work and how can we use the computer to communicate."
   ]
  },
  {
   "cell_type": "markdown",
   "metadata": {},
   "source": [
    "# Intro to IT  \n",
    "![Intro to IT](http://jupyter.gofintech.cn/user/41805250/view/Homework/1.png)  "
   ]
  },
  {
   "cell_type": "markdown",
   "metadata": {},
   "source": [
    "## Introduction  \n",
    "---\n",
    "IT, which means **information technology** , makes our swift communication comes true. The exactly definition is *the use of digital technology, like computers and internet, to store and process data into useful information*. It is highly related to our daily life, and benefits to everybody.  \n",
    "\n",
    "For specialists, IT can make sure that the equipment is running smoothly. IT exercises our problem-solving ability and now it is faced to a job blooming.  "
   ]
  },
  {
   "cell_type": "markdown",
   "metadata": {},
   "source": [
    "## History of Computing  \n",
    "---\n",
    "The first use of the word “computer” was to someone who actually did calculation. We have created many types of keyboard to try to make typing more efficient. We used to have specialists to charge from abacus to mechanical calculators to do the math problem, but they are not so efficient.  \n",
    "\n",
    "Computer made a huge leap during World WarⅡ, when it was used in cryptography. People used punch card in 1950s and magnetic tape in 1970s and 80s to store information. But that time, computer sick a lot of space. Gradually we change the storage machine from vacuum tubes to transistors then to small computer chips, making computers more compact and more efficient. Then we invented compiler to change human language via a program into machine code. Eventually the industry gave way to the first hard disk drives and microprocessors, and computers are getting smaller and smaller. Apple made it come true to use computer in home and office, and thanks to Microsoft founded by Bill Gates, computers are more accessible to consumers. Then video games born. Stallman created OS which was open source. It set a foundation of the largest open-source operating system: Linux. In 90s, PDA allowed computing to go mobile. And then comes the mobile phone.  "
   ]
  },
  {
   "cell_type": "markdown",
   "metadata": {},
   "source": [
    "## Digital Logic  \n",
    "---\n",
    "Computers use binary system, known as base-2 numeral system, which uses **1 and 0** to express letters, emojis and so on. For a long time, we use ASCII as a standard to represent English letters, then came UTF-8, the most prevalently used standard today. It can express large number of things through the combination of 8 characters.  \n",
    "\n",
    "How can our computers get 0 and 1s? The binary uses **on** and **off** as **1 and 0** to translate words and calculate. We have **logic gates** to decide whether to send the message through condition.  \n",
    "\n",
    "To count in binary, we use \"h\", which in decimal is 104, as an example. Those numbers above 1 added up is just 104, so \"h\" in binary is **01101000**.  \n",
    "![example](https://github.com/Nora0517/Nora/2.png)  \n",
    "\n",
    "We are used to use abstraction in our daily life. Computers use abstraction too. Abstraction helps us in many ways that we don’t even realize.  "
   ]
  },
  {
   "cell_type": "markdown",
   "metadata": {},
   "source": [
    "## Computer Architecture Layer  \n",
    "---\n",
    "- **Hardware Layer**  \n",
    "Physical components of computer  \n",
    "- **Operating System**  \n",
    "Allows hardware to communicate with the system  \n",
    "- **Software layer**  \n",
    "Connect humans with computer  \n",
    "- **User**  \n",
    "People who interact with the computer  \n"
   ]
  },
  {
   "cell_type": "markdown",
   "metadata": {},
   "source": [
    "# Hardware  \n",
    "![Hardware](https://github.com/Nora0517/Nora/3.png)"
   ]
  },
  {
   "cell_type": "markdown",
   "metadata": {},
   "source": [
    "## The Modern Computer  \n",
    "---\n",
    "- CPU: brain of computer  \n",
    "-\tRAM: store data temporarily  \n",
    "-\tHard drive: store long-term data  \n",
    "-\tMotherboard: foundation of the computer, communicates the components  \n",
    "-\tPower supply: transform power from wall outlet into a form that can be used \n",
    "\n",
    "Programs are instructions that tell the computer what to do.  \n",
    "How RAM interact with CPU:\n",
    "1.\tCPU-(address bus)-MCC-(grab the data by)-RAM-(through EDB)-CPU  \n",
    "2.\tThrough **cache**, which is smaller but swifter, but not RAM.  \n",
    "\n",
    "The CPU has an internal clock that keeps its operation in sync called **clock wire**. It has a maximum number of clock cycles called **clock speed**. **Over clocking** can increase the rate of the CPU clock cycles to increase the performance in low-end CPUs, but there are cons like overheating. \n"
   ]
  },
  {
   "cell_type": "markdown",
   "metadata": {},
   "source": [
    "## Components  \n",
    "---\n",
    "CPU is a very powerful calculator to process binary. Instructions are broke into small pieces and stored into **instruction set**. CPUs must fit correctly in the sockets on the motherboard. There are two different types of CPU\t: LGA and PGA. CPU also has 32-bits and 64-bits architecture.  \n",
    "\n",
    "RAM is used to store short-term memories. It’s quickly and changing all the time. Almost all RAM is volatile and can be easily lost. One of the RAM commonly founded in computer is **DRAM**. Today we usually use DDR SDRAM, or DDR. It’s faster and more programs can be run at the same time. Make sure that your motherboard is compatible with the RAM sticks.  \n",
    "\n",
    "Motherboard is the foundation that holds our computer together. It lets us expand our computer’s functionality by adding expansion cards. It has a chip set(with North Bridge that interconnect RAM and video cards, and South Bridge that maintains hard drives and USB), linked with peripherals(like a mouse, a keyboard and a monitor), and has expansion slots(PCI). There are different sizes of motherboard today (like ATX and ITX, which is smaller). \n",
    "\n",
    "1 byte = 8 bits  \n",
    "1 KB = 1024 bytes  \n",
    "1 MB = 1024 KB  \n",
    "1 GB = 1024 MB  \n",
    "1 TB = 1024 GB  \n",
    "There are two hard drive types today: HDD (demands RPM, revolution per minute) and SSD (more expensive but faster). Hard drive usually connects our system by SATA and NVMe.  \n",
    "\n",
    "There are two types of electricity: DC (flow in one direction) and AC (changes directions constantly). Power supply converts AC into low voltage DC power that we can use. Most power supply has a fan, voltage information and cables to power motherboard and a power cable. Be sure to use the proper voltage for electronics.  \n",
    "\n",
    "The USB ports are different due to its running speed. The USB 2.0 ports are black and 3.0 ports are blue, 3.1 ports are teal. DVI and HDMI can output videos (HDMI also audio).  \n"
   ]
  },
  {
   "cell_type": "markdown",
   "metadata": {},
   "source": [
    "# Operating System  \n",
    "![Operating System](https://github.com/Nora0517/Nora/4.png)"
   ]
  },
  {
   "cell_type": "markdown",
   "metadata": {},
   "source": [
    "## What is an operating system?  \n",
    "---\n",
    "Operating system is the whole package that manages our computer’s resources and lets us interact with it. There are two main part of the operating system: the kernel and the user space. Kernel talks directly to our hardware and manages our system’s resources and we interact with user space. The mainly used operating systems are Windows, Mac and Linux. Windows by Microsoft is commonly used as the default operating system, and in today’s world, PC refers to a Windows computer. Mac by Apple is mainly used in consumer space, and is pre-loaded in an Apple computer. Linux is an open-source operating system and can be used heavily in business infrastructure and in the consumer space. Another operating system is called Chrome OS. All OS share common characteristics and we can control all OS if we understand the basic blocks of one OS. A kernel’s functions are: file storage and management, process management, memory management and I/O management. And user space is outside the kernel like text editors, music players, system settings etc.  \n",
    "\n",
    "For file handling, we have three parts: file data, metadata and file system. Different file system doesn’t play nice to each other. We write file data to our hard drive in the form of data blocks. Block storage improves faster handling of data because the data isn’t stored as one long piece and can be accessed quicker. Metadata contains the information about our file like file owner, permissions, file size and so on. A file extension is the appended part of a filename that tells us what type of file it is in certain operating system. \n",
    "\n",
    "For process management, a process is a program that is executing, and a program is an APP that we can run. We can have many processes of the same program running at the same time, but we have finite amount of resources. Our kernel creates processes, efficiently schedules them, and manages how processes are terminated so that all the programs we use can be run, it makes time slice. A time slice is a very short interval of time that gets allocated to a process for CPU execution.  \n",
    "\n",
    "For memory management, running CPU also takes up space in memory. To give us more memory than we physically have, we use virtual memory. Virtual memory is a combination of hard drive space and RAM that acts like memory that our processes can use. It’s usually used for large files to save space of RAM.  \n",
    "\n",
    "For I/O management, I/O devises are devises that perform input and output like mouse, keyboard, speakers and so on. When the kernel is able to start the drivers to communicate with hardware, it also manages the transfer of data in and out of the devices and talk to each other. When you’re troubleshooting or solving a problem with a slow machine, it’s usually sort of hardware resource deficiency.  \n",
    "\n",
    "There are two ways in the user space we can interact with our OS: shell and graphical user interface (in which we can see what we do). In the lecture we use a CLI shell: BASH. A shell is a program that interprets text commands and sends them to the OS to execute.  \n",
    "\n",
    "Logs are files that record system events on our computer, just like a system’s diary. We can refer back to them when we need to find out something that happened. But logs can be hard to navigate.  \n",
    "\n",
    "When we start a computer, we use the term **boot**. The boot processes are: computer powered on—BIOS/UEFI initializes hardware—BIOS/UEFI runs POST(power-on self-test)—boot devices started on—find the bootloader(a small program that loads the OS)—OS loaded—kernel loaded—resources and drivers, etc. loaded(hardware talks to software)—essential system processes and user space launched.  "
   ]
  },
  {
   "cell_type": "markdown",
   "metadata": {},
   "source": [
    "## Installing an OS  \n",
    "---\n",
    "Before installing an OS, we need to know what OS we want to use, what hardware will be used. The architecture of CPU and OS should be the same(32-bit and 64-bit). Some OS manufactures sell OS in disk form or USB form, or directly over the Internet.  \n",
    "\n",
    "A virtual machine or VM is just a copy of a real machine. It uses physical resources like memory, CPU and storage, but it can run multiple OSs at once. It’s also easier to maintain. Once we don’t use it, we can delete it at once.  \n",
    "\n",
    "To install a Windows 10 OS, we need a setup USB. Hit **f12** or some other key to access the BIOS settings. Click the **install now** button. Do the settings, and the computer will be updated and restarted. Enter the product key. Create an account for the PC and then go into the system. (Then comes something I’ve already known, so I won’t put it down.)  \n",
    "\n",
    "To install a Linux Ubuntu OS, download the free OS install image from the website. Choose **install ubuntu**. Do the settings, restart the computer. Here comes the desktop. On the left hand there are shortcuts to apps. On the top right-hand bar are quick settings. Search an APP called **terminal** to connect with the shell. The **echo** command is as the command **print** we use in Python. The **touch** command is to create a file on the currently catalog.  \n",
    "\n",
    "Mac OS is already pre-installed in an Apple computer. On the bottom of the desktop are the shortcuts to APPs. On the top right is the system information. On the top left(the Apple icon) are options we can command. Click **system preferences** to do the settings. The **finder** button on left-hand top is the file manager.  "
   ]
  },
  {
   "cell_type": "markdown",
   "metadata": {},
   "source": [
    "# Networking  \n",
    "![Networking](https://github.com/Nora0517/Nora/5.png)"
   ]
  },
  {
   "cell_type": "markdown",
   "metadata": {},
   "source": [
    "## What is networking?  \n",
    "---\n",
    "We call an interconnection of computers a network. The Internet is a physical connection of computers and wires around the world. The Web is the information on the Internet. There are lots of ways to connect computers to a network. An Ethernet cable, lets us physically connect to the network through cable on the back of desktop. And WIFI, which is wireless networking. We also use fiber-optic cables, which is the most expensive, to connect to the network. Computers connect to different devices that help organize our network together. The first is a router, which connects different devices together and helps route network traffic. Our files are traveling through routers, switches(from lots of routers) and hubs(send to everyone). A network stack is a set of hardware or software that provides the infrastructure for a computer. Most of the time we need to check out our network stack.  \n",
    "\n",
    "Our networking protocols make sure our packets are routed efficiently, aren’t corrupted, secure, go to the right machine and named properly. There are two protocols we need to know: **the transmission control protocol** and **the Internet protocol**(TCP/IP). IP is responsible for delivering our packets to the right computer, while TCP delivers information from one network to another.  \n",
    "\n",
    "One of the most prevalent ways people access the Internet is through the **web**. Webpages are generally made up of multimedia content like text, images, audio and video. A URL, which stands for Unform Resource Locator, is just a web address similar to our home address. The **www** stands for World Wide Web. DNS, Domain Name System, acts as our Internet directory.  "
   ]
  },
  {
   "cell_type": "markdown",
   "metadata": {},
   "source": [
    "## Limitations of the Internet  \n",
    "---\n",
    "Internet is widely used in our lives. In 1960s the US government spun up a project called DARPA and create the earliest version of the Internet with the ARPANET. But at that time networks couldn’t talk to each other. In 1970s the method TCP/IP born as a great breakthrough. The information send was just text. In the 1990s, the World Wide Web was invented.  \n",
    "\n",
    "The limitations of today’s Internet is that we don’t have enough IPv4 address for the large amount of the devices. And so we invented IPv6, which has been slow but steady, with a large amount of IP address. Network address translation(NAT) lets organizations use one public IP address and many private IP address within the network.  "
   ]
  },
  {
   "cell_type": "markdown",
   "metadata": {},
   "source": [
    "## Impact of the Internet  \n",
    "---\n",
    "Globalization is the movement that lets governments, businesses and organizations communicate and integrate together on an international scale. It has already benefited from business to our life styles, education and so on. We must try our best to keep up with this dynamic shifting landscape.  \n",
    "\n",
    "Internet of things (IOT) is the connecting of devices to the Internet. It has a huge potential though it has many society implications.  \n",
    "\n",
    "The added convenience made possible by the Internet also makes it harder and harder to maintain anonymity. Just make sure your information won’t fall into the wrong hands. Personal privacy is no longer something we can think of on an individual scale. Also, the issue of copyright is also a problem. Computer security matters too. Cybersecurity attacks can infect nationwide and can cause huge financial loss, personal information leakage and many horrible affects.  "
   ]
  },
  {
   "cell_type": "markdown",
   "metadata": {},
   "source": [
    "# Software  \n",
    "![Software](https://github.com/Nora0517/Nora/6.png)"
   ]
  },
  {
   "cell_type": "markdown",
   "metadata": {},
   "source": [
    "## Intro to Software  \n",
    "---\n",
    "Coding is basically translating one language to another. We use it as: coding an application. Scripting is coding in a scripting language. Scripts are mainly used to perform a single or limited range task. Programming is coding in a programming language. Programming languages are the special languages that software developers use to write instructions for computers to execute. Software generally represents something that was programmed.  \n",
    "\n",
    "Copyright is used when creating original work. For commercial software, we need to pay for a license to use. And for non-commercial software, it is mostly open source. It’s important to check the license agreement of any software before we install it. There are two types of software categorized by function. Application software is any software created to fulfill a specific need, like a text editor. System software is used to keep our core system running, like OS tools and utilities. Firmware is software that permanently stored on a computer component. Software versions are important because it tell us what features were added to a specific software interaction. The majority versions follow a sequential numbering trend.  \n",
    "\n",
    "The instructions of software are translated like:  \n",
    "1.\tGrab some input data from this location in memory.  \n",
    "2.\tUsing the input data, do some math.  \n",
    "3.\tPut some output data from this location in memory.  \n",
    "An assembly language allowed computer scientists to use human readable instructions, assembled into code that the machines can understand. Compiled programming languages use human readable instructions, then send them to a compiler. The script is run by an interpreter, which interprets the code into CPU instructions just in time to run them.  "
   ]
  },
  {
   "cell_type": "markdown",
   "metadata": {},
   "source": [
    "## Interacting with Software  \n",
    "---\n",
    "Software is always changing and can be out of our control. Another thing to worry about is old software, it is more possible being exposed to cybersecurity attacks. A software bug is an error in software that causes unexpected results. A good guideline is to update your software constantly. Another problem is software management. We can’t constantly recognize a malicious software, which causes harm to our computer. It’s always good to check if software comes from a reputed source before installing.  \n",
    "\n",
    "For Windows. Git is a version control system that helps keep track of changes made to files and directories, like a revision history feature. We download a 64-bit executable. Find file with file extension **. exe**. Exe is a file extension found Windows for an executable file. Double click and install it. From APPs & features we can see all the software we have installed. Uninstall is by a similar way. Automation makes processes work automatically.  "
   ]
  },
  {
   "cell_type": "markdown",
   "metadata": {},
   "source": [
    "# Troubleshooting  \n",
    "![Troubleshooting](https://github.com/Nora0517/Nora/7.png)"
   ]
  },
  {
   "cell_type": "markdown",
   "metadata": {},
   "source": [
    "## Troubleshooting Best Practices  \n",
    "---\n",
    "As an IT support specialist, we uniquely positioned to combine technology and people and to make those interactions better. Troubleshooting is the ability to diagnose and resolve a problem. The first thing you do in troubleshooting is **ask questions**. IT support is about working in the service of others. Always try to create a positive experience for the user.  \n",
    "\n",
    "Next, we need to shrink the scope of a potential issue: Isolating problems. Root cause is the main factor that’s causing a range of issues. Discussing root cause may be tedious, but it’s well worth the effort.  \n",
    "\n",
    "Another effective troubleshooting method is called: follow the cookie crumbs. It requires you to go back when the problem first started and work forward from there. It’s about to trace back to the logs and find where the first error is. Start with the quickest step first.  \n",
    "\n",
    "There are some pitfalls we need to avoid.  \n",
    "1.\tGoing into an autopilot. Don’t move through issues out of habits and without careful thought.  \n",
    "2.\tNot finding the root cause. Find the root cause that causes all those small problems.  "
   ]
  },
  {
   "cell_type": "markdown",
   "metadata": {},
   "source": [
    "## Customer Service  \n",
    "---\n",
    "In IT support, you work with users to fix technology and improve how people use it. To accomplish this, you need to develop a trust between you and the user. Great customer service requires: exhibiting empathy, being conscious of your tone, acknowledging the person you’re talking to and developing trust with the user. The most important of these is empathy. It is to see something in someone else’s perspective and do the action. The next is tone. Communicating with a good tone is a delicate balance. Make sure to familiarize yourself with a local style. Acknowledge the user. Say something when you are going to continue to work. And then build the trust. Follow through on your commitments and promises. Be hones to the users, even you think they won’t be happy about it.  \n",
    "\n",
    "Check the spelling before hitting send. How you first interact with someone will influence how the rest of the interaction plays out. Just be professional, acknowledge the user, and show them some respect. The next is how you respond to the user’s questions. To really build a rapport, try to remember a personal fact they’ve mentioned and bring it up later. Just make sure you clarify the person’s issue before you start to troubleshoot. Be aware of how you probe for information, make sure to set context and explain why you’re asking the question. The last five minutes of the interaction will set the tone for how the user feels walking away from the interaction. So, make sure to end on a positive note.  \n",
    "\n",
    "There are lots of situations that can make us feel stressed. Once we have the **reboot action** to these situations, write it down. The first couple of time it may not work, so give it time. Take a moment to think about what went wrong, how you’re feeling, what is your reaction. The hardest and the best technique is to identify where the interaction went wrong in the moment and redirect the conversation. It’s important to try and identify why this is happening. Be patient. Try to see things from other people’s point of view.  "
   ]
  }
 ],
 "metadata": {
  "kernelspec": {
   "display_name": "Python 3",
   "language": "python",
   "name": "python3"
  },
  "language_info": {
   "codemirror_mode": {
    "name": "ipython",
    "version": 3
   },
   "file_extension": ".py",
   "mimetype": "text/x-python",
   "name": "python",
   "nbconvert_exporter": "python",
   "pygments_lexer": "ipython3",
   "version": "3.6.7"
  }
 },
 "nbformat": 4,
 "nbformat_minor": 2
}
