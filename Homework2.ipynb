{
 "cells": [
  {
   "cell_type": "markdown",
   "metadata": {},
   "source": [
    "# What is **cloud computing**?  \n",
    "---\n",
    "#### In fact, it is kind of running your program in a huge online space--much larger than your own CPU. Convenient!"
   ]
  },
  {
   "cell_type": "markdown",
   "metadata": {},
   "source": [
    "- One of the most convenient point is the **on-demand dilivery**. You can run your program at any time you want. Just click on your button and go to the website!  \n",
    "- On the Internet you can \"creat\" your special computer. The website provides all you need: the database, storage system, and you can compute follow your inclinations.  \n",
    "- The cloud computer is elastic and scalable. That means you can change the allocation of your cloud computer and may expand it when the CPU runs slowly. The operation can save a big price for purchasing hardwares.  \n",
    "- How do clowd computing do that large amount of works? Actually there are real large computer components somewhere out there. We can connect with those components over the Internet. So still we are programing on real computers, but not the one by your hands.  \n",
    "- Due to the huge hardware system, cloud computers are with admirable speed and agility. You can finish a complicated program in just a few minutes while on your own computer you may spend far more time.  \n",
    "- The accounting system also provides convenience. It is called **pay as you go** system. You can choose the price you want to pay through a list and once you quit the project, your money will be paid off.  \n",
    "- When you want to use your cloud computer, click on the billing button. It will soon start to calculate money. And remember to stop the project when you want to quit it.  \n",
    "- The last bright spot is that we can check our program everywhere. There are base stations all over the world, so we can work in wherever the Internet is avaliable. Our footprint will be global. "
   ]
  }
 ],
 "metadata": {
  "kernelspec": {
   "display_name": "Python 3",
   "language": "python",
   "name": "python3"
  },
  "language_info": {
   "codemirror_mode": {
    "name": "ipython",
    "version": 3
   },
   "file_extension": ".py",
   "mimetype": "text/x-python",
   "name": "python",
   "nbconvert_exporter": "python",
   "pygments_lexer": "ipython3",
   "version": "3.6.7"
  }
 },
 "nbformat": 4,
 "nbformat_minor": 2
}
